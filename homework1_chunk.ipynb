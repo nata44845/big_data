{
 "cells": [
  {
   "cell_type": "markdown",
   "id": "008d8d43",
   "metadata": {},
   "source": [
    "# Домашняя работа"
   ]
  },
  {
   "cell_type": "markdown",
   "id": "7f016163",
   "metadata": {},
   "source": [
    "Сделайте mapper и reducer, чтобы посчитать среднее и дисперсию оценок за фильм."
   ]
  },
  {
   "cell_type": "markdown",
   "id": "9b0bc15a",
   "metadata": {},
   "source": [
    "Реализация через цикл (предпогаем, что мы не знаем сколько у нас фильмов):"
   ]
  },
  {
   "cell_type": "code",
   "execution_count": 3,
   "id": "92212584",
   "metadata": {},
   "outputs": [
    {
     "name": "stdout",
     "output_type": "stream",
     "text": [
      "Requirement already satisfied: opendatasets in e:\\nata\\python\\anaconda3\\lib\\site-packages (0.1.22)\n",
      "Requirement already satisfied: kaggle in e:\\nata\\python\\anaconda3\\lib\\site-packages (from opendatasets) (1.5.16)\n",
      "Requirement already satisfied: tqdm in e:\\nata\\python\\anaconda3\\lib\\site-packages (from opendatasets) (4.64.0)\n",
      "Requirement already satisfied: click in e:\\nata\\python\\anaconda3\\lib\\site-packages (from opendatasets) (8.0.4)\n",
      "Requirement already satisfied: colorama in e:\\nata\\python\\anaconda3\\lib\\site-packages (from click->opendatasets) (0.4.4)\n",
      "Requirement already satisfied: bleach in e:\\nata\\python\\anaconda3\\lib\\site-packages (from kaggle->opendatasets) (4.1.0)\n",
      "Requirement already satisfied: certifi in e:\\nata\\python\\anaconda3\\lib\\site-packages (from kaggle->opendatasets) (2021.10.8)\n",
      "Requirement already satisfied: six>=1.10 in e:\\nata\\python\\anaconda3\\lib\\site-packages (from kaggle->opendatasets) (1.16.0)\n",
      "Requirement already satisfied: urllib3 in e:\\nata\\python\\anaconda3\\lib\\site-packages (from kaggle->opendatasets) (1.26.9)\n",
      "Requirement already satisfied: python-dateutil in e:\\nata\\python\\anaconda3\\lib\\site-packages (from kaggle->opendatasets) (2.8.2)\n",
      "Requirement already satisfied: python-slugify in e:\\nata\\python\\anaconda3\\lib\\site-packages (from kaggle->opendatasets) (5.0.2)\n",
      "Requirement already satisfied: requests in e:\\nata\\python\\anaconda3\\lib\\site-packages (from kaggle->opendatasets) (2.27.1)\n",
      "Requirement already satisfied: packaging in e:\\nata\\python\\anaconda3\\lib\\site-packages (from bleach->kaggle->opendatasets) (21.3)\n",
      "Requirement already satisfied: webencodings in e:\\nata\\python\\anaconda3\\lib\\site-packages (from bleach->kaggle->opendatasets) (0.5.1)\n",
      "Requirement already satisfied: pyparsing!=3.0.5,>=2.0.2 in e:\\nata\\python\\anaconda3\\lib\\site-packages (from packaging->bleach->kaggle->opendatasets) (3.0.4)\n",
      "Requirement already satisfied: text-unidecode>=1.3 in e:\\nata\\python\\anaconda3\\lib\\site-packages (from python-slugify->kaggle->opendatasets) (1.3)\n",
      "Requirement already satisfied: charset-normalizer~=2.0.0 in e:\\nata\\python\\anaconda3\\lib\\site-packages (from requests->kaggle->opendatasets) (2.0.4)\n",
      "Requirement already satisfied: idna<4,>=2.5 in e:\\nata\\python\\anaconda3\\lib\\site-packages (from requests->kaggle->opendatasets) (3.3)\n"
     ]
    }
   ],
   "source": [
    "!pip install opendatasets"
   ]
  },
  {
   "cell_type": "code",
   "execution_count": 4,
   "id": "b854658d",
   "metadata": {},
   "outputs": [],
   "source": [
    "import opendatasets as od\n",
    "import pandas as pd\n",
    "import time\n",
    "from pathlib import Path"
   ]
  },
  {
   "cell_type": "code",
   "execution_count": 5,
   "id": "624d10db",
   "metadata": {},
   "outputs": [
    {
     "name": "stdout",
     "output_type": "stream",
     "text": [
      "Skipping, found downloaded files in \".\\imdb-user-reviews\" (use force=True to force download)\n"
     ]
    }
   ],
   "source": [
    "dataset_path = Path('imdb-user-reviews', 'song_lyrics.csv')\n",
    "if not dataset_path.is_file():\n",
    "    od.download('https://www.kaggle.com/datasets/sadmadlad/imdb-user-reviews')"
   ]
  },
  {
   "cell_type": "code",
   "execution_count": 6,
   "id": "999fcf8f",
   "metadata": {},
   "outputs": [
    {
     "name": "stdout",
     "output_type": "stream",
     "text": [
      "8.03 1.0517128885774865\n"
     ]
    }
   ],
   "source": [
    "import json\n",
    "from functools import reduce\n",
    "\n",
    "\n",
    "n, mean, M2 = 0, 0.0, 0\n",
    "for path in Path('imdb-user-reviews').glob('**/*'):\n",
    "    if path.is_file() and path.suffix == '.json':\n",
    "        with open(path, 'r') as f:\n",
    "            info = json.load(f)\n",
    "        score = float(info['movieIMDbRating'])\n",
    "        n += 1\n",
    "        delta = score - mean\n",
    "        mean += delta / n\n",
    "        M2 += delta * (score - mean)\n",
    "\n",
    "print(mean, (M2 / n) ** (1/2))"
   ]
  },
  {
   "cell_type": "code",
   "execution_count": 7,
   "id": "c152e0f4",
   "metadata": {},
   "outputs": [],
   "source": [
    "def mapper(path):\n",
    "    score = 0\n",
    "    if path.is_file() and path.suffix == '.json':\n",
    "        with open(path, 'r') as f:\n",
    "            info = json.load(f)\n",
    "        return(1,float(info['movieIMDbRating']),None)\n",
    "    return None\n",
    "\n",
    "\n",
    "def reducer(score1, score2):\n",
    "    if score1 is None and score2 is None:\n",
    "        return None\n",
    "    elif score1 is None:\n",
    "        return score2\n",
    "    elif score2 is None:\n",
    "        return score1\n",
    "    else:\n",
    "        scores = []\n",
    "        if score1[2] == None:\n",
    "            n, mean, M2 = 0, 0.0, 0\n",
    "            scores.append(score1[1])\n",
    "        else:\n",
    "            n, mean, M2 = score1\n",
    "        scores.append(score2[1])\n",
    "        \n",
    "        for score in scores:\n",
    "            n += 1\n",
    "            delta = score - mean\n",
    "            mean += delta / n\n",
    "            M2 += delta * (score - mean)\n",
    "        return n, mean, M2"
   ]
  },
  {
   "cell_type": "code",
   "execution_count": 8,
   "id": "65eea17c",
   "metadata": {},
   "outputs": [
    {
     "name": "stdout",
     "output_type": "stream",
     "text": [
      "None None None None None None None None None None (1, 8.4, None) None (1, 8.8, None) None (1, 7.4, None) None (1, 8.4, None) None (1, 5.2, None) None (1, 8.9, None) None (1, 8.3, None) None (1, 8.0, None) None (1, 9.0, None) None (1, 7.9, None) None\n"
     ]
    }
   ],
   "source": [
    "print(*map(mapper, Path('imdb-user-reviews').glob('**/*')))"
   ]
  },
  {
   "cell_type": "code",
   "execution_count": 9,
   "id": "c3e17ce9",
   "metadata": {},
   "outputs": [
    {
     "name": "stdout",
     "output_type": "stream",
     "text": [
      "10 8.03 1.0517128885774865\n",
      "CPU times: total: 0 ns\n",
      "Wall time: 5.01 ms\n"
     ]
    }
   ],
   "source": [
    "%%time\n",
    "n, mean, M2 = reduce(reducer, map(mapper, Path('imdb-user-reviews').glob('**/*')))\n",
    "print(n, mean, (M2 / n) ** (1/2))"
   ]
  },
  {
   "cell_type": "markdown",
   "id": "8183ede2",
   "metadata": {},
   "source": [
    "# Parallel"
   ]
  },
  {
   "cell_type": "code",
   "execution_count": 10,
   "id": "2f16da83",
   "metadata": {},
   "outputs": [],
   "source": [
    "from joblib import Parallel, delayed"
   ]
  },
  {
   "cell_type": "code",
   "execution_count": 11,
   "id": "2266952d",
   "metadata": {},
   "outputs": [
    {
     "name": "stdout",
     "output_type": "stream",
     "text": [
      "8.03 1.0517128885774865\n",
      "CPU times: total: 0 ns\n",
      "Wall time: 1.06 s\n"
     ]
    }
   ],
   "source": [
    "%%time\n",
    "N = 2\n",
    "n, mean, M2 = reduce(reducer, Parallel(n_jobs=N)(delayed(mapper)(path) for path in Path('imdb-user-reviews').glob('**/*')))\n",
    "print(mean, (M2 / n) ** (1/2))"
   ]
  },
  {
   "cell_type": "code",
   "execution_count": 12,
   "id": "6d9d1ed2",
   "metadata": {},
   "outputs": [
    {
     "name": "stdout",
     "output_type": "stream",
     "text": [
      "8.03 1.0517128885774865\n",
      "CPU times: total: 78.1 ms\n",
      "Wall time: 2.12 s\n"
     ]
    }
   ],
   "source": [
    "%%time\n",
    "N = 8\n",
    "n, mean, M2 = reduce(reducer, Parallel(n_jobs=N)(delayed(mapper)(path) for path in Path('imdb-user-reviews').glob('**/*')))\n",
    "print(mean, (M2 / n) ** (1/2))"
   ]
  },
  {
   "cell_type": "code",
   "execution_count": 13,
   "id": "82ba9e1a",
   "metadata": {},
   "outputs": [
    {
     "name": "stdout",
     "output_type": "stream",
     "text": [
      "8.03 1.0517128885774865\n",
      "CPU times: total: 31.2 ms\n",
      "Wall time: 335 ms\n"
     ]
    }
   ],
   "source": [
    "%%time\n",
    "N = 16\n",
    "n, mean, M2 = reduce(reducer, Parallel(n_jobs=N)(delayed(mapper)(path) for path in Path('imdb-user-reviews').glob('**/*')))\n",
    "print(mean, (M2 / n) ** (1/2))"
   ]
  },
  {
   "cell_type": "markdown",
   "id": "2445cd4b",
   "metadata": {},
   "source": [
    "# Chunkify (Почему-то работает не так как надо)"
   ]
  },
  {
   "cell_type": "code",
   "execution_count": 14,
   "id": "702d64dc",
   "metadata": {},
   "outputs": [
    {
     "data": {
      "text/plain": [
       "4"
      ]
     },
     "execution_count": 14,
     "metadata": {},
     "output_type": "execute_result"
    }
   ],
   "source": [
    "import multiprocessing\n",
    "multiprocessing.cpu_count()"
   ]
  },
  {
   "cell_type": "code",
   "execution_count": 34,
   "id": "da331a32",
   "metadata": {},
   "outputs": [],
   "source": [
    "def chunkify(mapInfo, number_of_chunks=2):\n",
    "    list_of_strings = [x for x in mapInfo if x.is_file()]\n",
    "    list_of_strings=[str(x).replace('WindowsPath(','').replace('\\\\','/') for x in list_of_strings]\n",
    "    step = len(list_of_strings) // number_of_chunks\n",
    "    if step != 0:\n",
    "        for i in range(0, len(list_of_strings), step):\n",
    "            yield list_of_strings[i : i + step]\n",
    "    else:\n",
    "        yield list_of_strings  # Генераторы\n",
    "        \n",
    "\n",
    "def chunks_mapper(chunk):\n",
    "    mapped_chunk = list(map(lambda x: mapper(Path(x)), chunk))\n",
    "    print(*mapped_chunk)\n",
    "    return reduce(reducer, mapped_chunk, None)\n"
   ]
  },
  {
   "cell_type": "code",
   "execution_count": 35,
   "id": "01eafe19",
   "metadata": {},
   "outputs": [
    {
     "name": "stdout",
     "output_type": "stream",
     "text": [
      "(1, 8.4, None) None (1, 8.8, None) None (1, 7.4, None) None\n",
      "(1, 8.4, None) None (1, 5.2, None) None (1, 8.9, None) None\n",
      "(1, 8.3, None) None (1, 8.0, None) None (1, 9.0, None) None\n",
      "(1, 7.9, None) None\n",
      "(6, 8.072222222222223, 1.5764814814814825)\n",
      "CPU times: total: 15.6 ms\n",
      "Wall time: 7.96 ms\n"
     ]
    }
   ],
   "source": [
    "%%time\n",
    "data_chunks = chunkify(Path('imdb-user-reviews').glob('**/*'),number_of_chunks=3)\n",
    "#step 1:\n",
    "mapped = map(chunks_mapper, data_chunks)\n",
    "#step 2:\n",
    "reduced = reduce(reducer, mapped,None)\n",
    "print(reduced)"
   ]
  },
  {
   "cell_type": "code",
   "execution_count": null,
   "id": "56585fcf",
   "metadata": {},
   "outputs": [],
   "source": []
  }
 ],
 "metadata": {
  "celltoolbar": "Raw Cell Format",
  "kernelspec": {
   "display_name": "Python 3 (ipykernel)",
   "language": "python",
   "name": "python3"
  },
  "language_info": {
   "codemirror_mode": {
    "name": "ipython",
    "version": 3
   },
   "file_extension": ".py",
   "mimetype": "text/x-python",
   "name": "python",
   "nbconvert_exporter": "python",
   "pygments_lexer": "ipython3",
   "version": "3.9.12"
  }
 },
 "nbformat": 4,
 "nbformat_minor": 5
}
