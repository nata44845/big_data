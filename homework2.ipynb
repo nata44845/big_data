{
 "cells": [
  {
   "cell_type": "code",
   "execution_count": 89,
   "id": "876419d5",
   "metadata": {},
   "outputs": [],
   "source": [
    "from pyspark.sql import SparkSession\r\n",
    "from pyspark.sql.functions import to_json,col\r\n",
    "from pyspark.sql.types import *\r\n",
    "from os.path import abspath\r\n",
    "\r\n",
    "spark = SparkSession\\\r\n",
    "        .builder\\\r\n",
    "        .appName(\"pyspark-notebook\")\\\r\n",
    "        .master(\"spark://spark-master:7077\")\\\r\n",
    "        .config(\"spark.executor.memory\", \"512m\")\\\r\n",
    "        .config(\"hive.metastore.uris\", \"thrift://hive-metastore:9083\")\\\r\n",
    "        .config(\"spark.sql.warehouse.dir\", \"/user/hive/warehouse\")\\\r\n",
    "        .enableHiveSupport()\\\r\n",
    "        .getOrCreate()\r\n",
    "\r\n",
    "spark.sparkContext.setLogLevel(\"ERROR\")"
   ]
  },
  {
   "cell_type": "code",
   "execution_count": 4,
   "id": "cad583b0",
   "metadata": {},
   "outputs": [
    {
     "name": "stdout",
     "output_type": "stream",
     "text": [
      "Requirement already satisfied: opendatasets in /usr/local/lib/python3.7/dist-packages (0.1.22)\n",
      "Requirement already satisfied: click in /usr/local/lib/python3.7/dist-packages (from opendatasets) (8.1.7)\n",
      "Requirement already satisfied: tqdm in /usr/local/lib/python3.7/dist-packages (from opendatasets) (4.66.1)\n",
      "Requirement already satisfied: kaggle in /usr/local/lib/python3.7/dist-packages (from opendatasets) (1.5.16)\n",
      "Requirement already satisfied: importlib-metadata in /usr/local/lib/python3.7/dist-packages (from click->opendatasets) (3.10.1)\n",
      "Requirement already satisfied: zipp>=0.5 in /usr/local/lib/python3.7/dist-packages (from importlib-metadata->click->opendatasets) (3.5.0)\n",
      "Requirement already satisfied: typing-extensions>=3.6.4 in /usr/local/lib/python3.7/dist-packages (from importlib-metadata->click->opendatasets) (3.10.0.0)\n",
      "Requirement already satisfied: bleach in /usr/local/lib/python3.7/dist-packages (from kaggle->opendatasets) (3.3.1)\n",
      "Requirement already satisfied: python-dateutil in /usr/local/lib/python3.7/dist-packages (from kaggle->opendatasets) (2.8.2)\n",
      "Requirement already satisfied: certifi in /usr/local/lib/python3.7/dist-packages (from kaggle->opendatasets) (2021.5.30)\n",
      "Requirement already satisfied: requests in /usr/local/lib/python3.7/dist-packages (from kaggle->opendatasets) (2.26.0)\n",
      "Requirement already satisfied: urllib3 in /usr/local/lib/python3.7/dist-packages (from kaggle->opendatasets) (1.26.6)\n",
      "Requirement already satisfied: six>=1.10 in /usr/lib/python3/dist-packages (from kaggle->opendatasets) (1.12.0)\n",
      "Requirement already satisfied: python-slugify in /usr/local/lib/python3.7/dist-packages (from kaggle->opendatasets) (8.0.1)\n",
      "Requirement already satisfied: packaging in /usr/local/lib/python3.7/dist-packages (from bleach->kaggle->opendatasets) (21.0)\n",
      "Requirement already satisfied: webencodings in /usr/local/lib/python3.7/dist-packages (from bleach->kaggle->opendatasets) (0.5.1)\n",
      "Requirement already satisfied: pyparsing>=2.0.2 in /usr/local/lib/python3.7/dist-packages (from packaging->bleach->kaggle->opendatasets) (2.4.7)\n",
      "Requirement already satisfied: text-unidecode>=1.3 in /usr/local/lib/python3.7/dist-packages (from python-slugify->kaggle->opendatasets) (1.3)\n",
      "Requirement already satisfied: idna<4,>=2.5 in /usr/local/lib/python3.7/dist-packages (from requests->kaggle->opendatasets) (3.2)\n",
      "Requirement already satisfied: charset-normalizer~=2.0.0 in /usr/local/lib/python3.7/dist-packages (from requests->kaggle->opendatasets) (2.0.4)\n",
      "\u001b[33mWARNING: Running pip as the 'root' user can result in broken permissions and conflicting behaviour with the system package manager. It is recommended to use a virtual environment instead: https://pip.pypa.io/warnings/venv\u001b[0m\n",
      "\u001b[33mWARNING: You are using pip version 21.2.2; however, version 23.3.1 is available.\n",
      "You should consider upgrading via the '/usr/bin/python3 -m pip install --upgrade pip' command.\u001b[0m\n"
     ]
    }
   ],
   "source": [
    "!pip install opendatasets"
   ]
  },
  {
   "cell_type": "code",
   "execution_count": 5,
   "id": "72564a12",
   "metadata": {},
   "outputs": [],
   "source": [
    "import opendatasets as od\n",
    "from pathlib import Path"
   ]
  },
  {
   "cell_type": "code",
   "execution_count": 7,
   "id": "944fe254",
   "metadata": {},
   "outputs": [
    {
     "name": "stdout",
     "output_type": "stream",
     "text": [
      "Please provide your Kaggle credentials to download this dataset. Learn more: http://bit.ly/kaggle-creds\n",
      "Your Kaggle username:"
     ]
    },
    {
     "name": "stdin",
     "output_type": "stream",
     "text": [
      "  nata44845\n"
     ]
    },
    {
     "name": "stdout",
     "output_type": "stream",
     "text": [
      "Your Kaggle Key:"
     ]
    },
    {
     "name": "stdin",
     "output_type": "stream",
     "text": [
      "  ································\n"
     ]
    },
    {
     "name": "stdout",
     "output_type": "stream",
     "text": [
      "Downloading new-york-city-airbnb-open-data.zip to ./new-york-city-airbnb-open-data\n"
     ]
    },
    {
     "name": "stderr",
     "output_type": "stream",
     "text": [
      "100%|██████████| 2.44M/2.44M [00:01<00:00, 2.46MB/s]"
     ]
    },
    {
     "name": "stdout",
     "output_type": "stream",
     "text": [
      "\n"
     ]
    },
    {
     "name": "stderr",
     "output_type": "stream",
     "text": [
      "\n"
     ]
    }
   ],
   "source": [
    "dataset_path = Path('new-york-city-airbnb-open-data', 'AB_NYC_2019.csv')\n",
    "if not dataset_path.is_file():\n",
    "    od.download('https://www.kaggle.com/datasets/dgomonov/new-york-city-airbnb-open-data')"
   ]
  },
  {
   "cell_type": "code",
   "execution_count": 90,
   "id": "875dc2a7",
   "metadata": {},
   "outputs": [
    {
     "name": "stderr",
     "output_type": "stream",
     "text": [
      "                                                                                \r"
     ]
    }
   ],
   "source": [
    "data = spark.read.csv(path=\"new-york-city-airbnb-open-data/AB_NYC_2019.csv\", sep=\",\", header=True)"
   ]
  },
  {
   "cell_type": "code",
   "execution_count": 91,
   "id": "1960ff9d",
   "metadata": {},
   "outputs": [
    {
     "name": "stderr",
     "output_type": "stream",
     "text": [
      "                                                                                \r"
     ]
    },
    {
     "data": {
      "text/plain": [
       "49079"
      ]
     },
     "execution_count": 91,
     "metadata": {},
     "output_type": "execute_result"
    }
   ],
   "source": [
    "data.count()"
   ]
  },
  {
   "cell_type": "code",
   "execution_count": 92,
   "id": "7077a85f",
   "metadata": {},
   "outputs": [
    {
     "data": {
      "text/plain": [
       "Row(id='2539', name='Clean & quiet apt home by the park', host_id='2787', host_name='John', neighbourhood_group='Brooklyn', neighbourhood='Kensington', latitude='40.64749', longitude='-73.97237', room_type='Private room', price='149', minimum_nights='1', number_of_reviews='9', last_review='2018-10-19', reviews_per_month='0.21', calculated_host_listings_count='6', availability_365='365')"
      ]
     },
     "execution_count": 92,
     "metadata": {},
     "output_type": "execute_result"
    }
   ],
   "source": [
    "data.head()"
   ]
  },
  {
   "cell_type": "code",
   "execution_count": 93,
   "id": "ce5ed6c0",
   "metadata": {},
   "outputs": [
    {
     "name": "stderr",
     "output_type": "stream",
     "text": [
      "                                                                                \r"
     ]
    },
    {
     "data": {
      "text/plain": [
       "Row(price='149')"
      ]
     },
     "execution_count": 93,
     "metadata": {},
     "output_type": "execute_result"
    }
   ],
   "source": [
    "df1 = data.select([\"price\"])\n",
    "df = df1.filter(\"price is not NULL and price!='Private room' and price!='Entire home/apt' and price!='Manhattan'\")\n",
    "df.head()"
   ]
  },
  {
   "cell_type": "code",
   "execution_count": 75,
   "id": "148d76fb",
   "metadata": {},
   "outputs": [],
   "source": [
    "df.write.saveAsTable('AB_NYC_2019_price1')"
   ]
  },
  {
   "cell_type": "code",
   "execution_count": 94,
   "id": "3b177619",
   "metadata": {},
   "outputs": [],
   "source": [
    "ndf=spark.sql(\"\"\"select count(*) CNT from AB_NYC_2019_price1\"\"\")"
   ]
  },
  {
   "cell_type": "code",
   "execution_count": 95,
   "id": "dad0e525",
   "metadata": {},
   "outputs": [
    {
     "name": "stdout",
     "output_type": "stream",
     "text": [
      "+-----+\n",
      "|  CNT|\n",
      "+-----+\n",
      "|48887|\n",
      "+-----+\n",
      "\n"
     ]
    }
   ],
   "source": [
    "ndf.show()"
   ]
  },
  {
   "cell_type": "code",
   "execution_count": 97,
   "id": "cc353c05",
   "metadata": {},
   "outputs": [],
   "source": [
    "ndf=spark.sql(\"\"\"select AVG(price) M,SQRT(VAR_POP(price)) D,MIN(price) minp, MAX(price) maxp from AB_NYC_2019_price1\"\"\")"
   ]
  },
  {
   "cell_type": "code",
   "execution_count": 98,
   "id": "9d4a88a4",
   "metadata": {},
   "outputs": [
    {
     "name": "stderr",
     "output_type": "stream",
     "text": [
      "[Stage 72:>                                                         (0 + 2) / 2]\r"
     ]
    },
    {
     "name": "stdout",
     "output_type": "stream",
     "text": [
      "+------------------+------------------+---------+----+\n",
      "|                 M|                 D|     minp|maxp|\n",
      "+------------------+------------------+---------+----+\n",
      "|152.22296299343384|238.53904666725555|-73.99986|9999|\n",
      "+------------------+------------------+---------+----+\n",
      "\n"
     ]
    },
    {
     "name": "stderr",
     "output_type": "stream",
     "text": [
      "                                                                                \r"
     ]
    }
   ],
   "source": [
    "ndf.show()"
   ]
  },
  {
   "cell_type": "code",
   "execution_count": 100,
   "id": "4984d937",
   "metadata": {},
   "outputs": [
    {
     "name": "stdout",
     "output_type": "stream",
     "text": [
      "48887\n"
     ]
    }
   ],
   "source": [
    "df.head()\n",
    "list_values = [float(row.price) for row in df.collect()]\n",
    "print(len(list_values))"
   ]
  },
  {
   "cell_type": "code",
   "execution_count": 101,
   "id": "76ab515a",
   "metadata": {},
   "outputs": [
    {
     "name": "stdout",
     "output_type": "stream",
     "text": [
      "48887 152.22296299343435 238.53904666725515\n"
     ]
    }
   ],
   "source": [
    "n, mean, M2 = 0, 0.0, 0\n",
    "for score in list_values:\n",
    "    n += 1\n",
    "    delta = score - mean\n",
    "    mean += delta / n\n",
    "    M2 += delta * (score - mean)\n",
    "print(n, mean, (M2 / n) ** (1/2))"
   ]
  },
  {
   "cell_type": "code",
   "execution_count": null,
   "id": "df652d8b",
   "metadata": {},
   "outputs": [],
   "source": []
  }
 ],
 "metadata": {
  "kernelspec": {
   "display_name": "Python 3 (ipykernel)",
   "language": "python",
   "name": "python3"
  },
  "language_info": {
   "codemirror_mode": {
    "name": "ipython",
    "version": 3
   },
   "file_extension": ".py",
   "mimetype": "text/x-python",
   "name": "python",
   "nbconvert_exporter": "python",
   "pygments_lexer": "ipython3",
   "version": "3.7.3"
  }
 },
 "nbformat": 4,
 "nbformat_minor": 5
}
